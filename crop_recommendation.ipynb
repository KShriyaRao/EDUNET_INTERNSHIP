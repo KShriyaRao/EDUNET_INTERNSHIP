{
  "nbformat": 4,
  "nbformat_minor": 0,
  "metadata": {
    "colab": {
      "provenance": []
    },
    "kernelspec": {
      "name": "python3",
      "display_name": "Python 3"
    },
    "language_info": {
      "name": "python"
    }
  },
  "cells": [
    {
      "cell_type": "code",
      "execution_count": 3,
      "metadata": {
        "colab": {
          "base_uri": "https://localhost:8080/"
        },
        "id": "TlVWQT_r5kOD",
        "outputId": "b69ae610-3317-47f6-8c51-173959e6244e"
      },
      "outputs": [
        {
          "output_type": "stream",
          "name": "stdout",
          "text": [
            "   Temparature  Humidity   Moisture Soil Type  Crop Type  Nitrogen  Potassium  \\\n",
            "0           26         52        38     Sandy      Maize        37          0   \n",
            "1           29         52        45     Loamy  Sugarcane        12          0   \n",
            "2           34         65        62     Black     Cotton         7          9   \n",
            "3           32         62        34       Red    Tobacco        22          0   \n",
            "4           28         54        46    Clayey      Paddy        35          0   \n",
            "\n",
            "   Phosphorous Fertilizer Name  \n",
            "0            0            Urea  \n",
            "1           36             DAP  \n",
            "2           30        14-35-14  \n",
            "3           20           28-28  \n",
            "4            0            Urea  \n",
            "<class 'pandas.core.frame.DataFrame'>\n",
            "RangeIndex: 99 entries, 0 to 98\n",
            "Data columns (total 9 columns):\n",
            " #   Column           Non-Null Count  Dtype \n",
            "---  ------           --------------  ----- \n",
            " 0   Temparature      99 non-null     int64 \n",
            " 1   Humidity         99 non-null     int64 \n",
            " 2   Moisture         99 non-null     int64 \n",
            " 3   Soil Type        99 non-null     object\n",
            " 4   Crop Type        99 non-null     object\n",
            " 5   Nitrogen         99 non-null     int64 \n",
            " 6   Potassium        99 non-null     int64 \n",
            " 7   Phosphorous      99 non-null     int64 \n",
            " 8   Fertilizer Name  99 non-null     object\n",
            "dtypes: int64(6), object(3)\n",
            "memory usage: 7.1+ KB\n",
            "None\n"
          ]
        }
      ],
      "source": [
        "# Import necessary libraries\n",
        "import pandas as pd\n",
        "\n",
        "df = pd.read_csv('/content/crop_recommendation.csv')\n",
        "\n",
        "# Print first 5 rows\n",
        "print(df.head())\n",
        "\n",
        "# Display dataset information\n",
        "print(df.info())\n"
      ]
    }
  ]
}